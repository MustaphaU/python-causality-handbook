{
 "cells": [
  {
   "cell_type": "code",
   "execution_count": 1,
   "id": "69560317",
   "metadata": {
    "ExecuteTime": {
     "end_time": "2023-08-13T17:25:32.295297Z",
     "start_time": "2023-08-13T17:25:30.064082Z"
    }
   },
   "outputs": [],
   "source": [
    "import pandas as pd\n",
    "import numpy as np\n",
    "from scipy import stats\n",
    "from matplotlib import pyplot as plt\n",
    "from scipy.special import expit\n",
    "import seaborn as sns\n",
    "\n",
    "from sklearn.preprocessing import PolynomialFeatures\n",
    "\n",
    "import sympy as sp"
   ]
  },
  {
   "cell_type": "markdown",
   "id": "c96f70a5",
   "metadata": {},
   "source": [
    "# DGP"
   ]
  },
  {
   "cell_type": "markdown",
   "id": "dd317451",
   "metadata": {},
   "source": [
    "$$\n",
    "r^*(p) = x\\theta + w\n",
    "$$\n",
    "\n",
    "$$\n",
    "r(r*) = \\dfrac{1}{1+e^{r^*}}\n",
    "$$\n",
    "\n",
    "$$\n",
    "amt(r^*) = a + b r^*\n",
    "$$\n",
    "\n",
    "$$\n",
    "loss(r^*) = amt(r^*)r(r*)\n",
    "$$\n",
    "\n",
    "$$\n",
    "rev(r^*) = amt(r^*)((x+1)^n - 1)\n",
    "$$\n"
   ]
  },
  {
   "cell_type": "code",
   "execution_count": 2,
   "id": "2cd4c6f5",
   "metadata": {
    "ExecuteTime": {
     "end_time": "2023-08-13T17:25:32.369341Z",
     "start_time": "2023-08-13T17:25:32.297021Z"
    }
   },
   "outputs": [],
   "source": [
    "x, theta, w = sp.symbols('x theta w')\n",
    "\n",
    "r_star = x*theta + w\n",
    "r = 1/(1+sp.exp(r_star))\n",
    "\n",
    "a, b = sp.symbols('a b')\n",
    "\n",
    "amt = a + b * r_star\n",
    "\n",
    "n = sp.symbols('n')\n",
    "\n",
    "loss = amt*r\n",
    "rev = amt*((x + 1)**n - 1)"
   ]
  },
  {
   "cell_type": "code",
   "execution_count": 3,
   "id": "1a277c54",
   "metadata": {
    "ExecuteTime": {
     "end_time": "2023-08-13T17:25:32.496302Z",
     "start_time": "2023-08-13T17:25:32.370345Z"
    }
   },
   "outputs": [
    {
     "data": {
      "text/latex": [
       "$\\displaystyle b \\theta$"
      ],
      "text/plain": [
       "b*theta"
      ]
     },
     "execution_count": 3,
     "metadata": {},
     "output_type": "execute_result"
    }
   ],
   "source": [
    "amt.diff(\"x\")"
   ]
  },
  {
   "cell_type": "code",
   "execution_count": 4,
   "id": "a36da854",
   "metadata": {
    "ExecuteTime": {
     "end_time": "2023-08-13T17:25:32.509639Z",
     "start_time": "2023-08-13T17:25:32.497550Z"
    }
   },
   "outputs": [
    {
     "data": {
      "text/latex": [
       "$\\displaystyle b \\theta \\left(\\left(x + 1\\right)^{n} - 1\\right) + \\frac{n \\left(a + b \\left(\\theta x + w\\right)\\right) \\left(x + 1\\right)^{n}}{x + 1}$"
      ],
      "text/plain": [
       "b*theta*((x + 1)**n - 1) + n*(a + b*(theta*x + w))*(x + 1)**n/(x + 1)"
      ]
     },
     "execution_count": 4,
     "metadata": {},
     "output_type": "execute_result"
    }
   ],
   "source": [
    "rev_diff = rev.diff(\"x\")\n",
    "rev_diff"
   ]
  },
  {
   "cell_type": "code",
   "execution_count": 5,
   "id": "102b02e0",
   "metadata": {
    "ExecuteTime": {
     "end_time": "2023-08-13T17:25:32.523341Z",
     "start_time": "2023-08-13T17:25:32.512152Z"
    }
   },
   "outputs": [
    {
     "data": {
      "text/latex": [
       "$\\displaystyle \\frac{b \\theta}{e^{\\theta x + w} + 1} - \\frac{\\theta \\left(a + b \\left(\\theta x + w\\right)\\right) e^{\\theta x + w}}{\\left(e^{\\theta x + w} + 1\\right)^{2}}$"
      ],
      "text/plain": [
       "b*theta/(exp(theta*x + w) + 1) - theta*(a + b*(theta*x + w))*exp(theta*x + w)/(exp(theta*x + w) + 1)**2"
      ]
     },
     "execution_count": 5,
     "metadata": {},
     "output_type": "execute_result"
    }
   ],
   "source": [
    "loss_diff = loss.diff(\"x\")\n",
    "loss_diff"
   ]
  },
  {
   "cell_type": "code",
   "execution_count": 6,
   "id": "3bb6716e",
   "metadata": {
    "ExecuteTime": {
     "end_time": "2023-08-13T17:25:32.532257Z",
     "start_time": "2023-08-13T17:25:32.524842Z"
    }
   },
   "outputs": [
    {
     "data": {
      "text/latex": [
       "$\\displaystyle b \\theta \\left(\\left(x + 1\\right)^{n} - 1\\right) - \\frac{b \\theta}{e^{\\theta x + w} + 1} + \\frac{n \\left(a + b \\left(\\theta x + w\\right)\\right) \\left(x + 1\\right)^{n}}{x + 1} + \\frac{\\theta \\left(a + b \\left(\\theta x + w\\right)\\right) e^{\\theta x + w}}{\\left(e^{\\theta x + w} + 1\\right)^{2}}$"
      ],
      "text/plain": [
       "b*theta*((x + 1)**n - 1) - b*theta/(exp(theta*x + w) + 1) + n*(a + b*(theta*x + w))*(x + 1)**n/(x + 1) + theta*(a + b*(theta*x + w))*exp(theta*x + w)/(exp(theta*x + w) + 1)**2"
      ]
     },
     "execution_count": 6,
     "metadata": {},
     "output_type": "execute_result"
    }
   ],
   "source": [
    "final_eq = (rev_diff - loss_diff)\n",
    "\n",
    "\n",
    "final_eq"
   ]
  },
  {
   "cell_type": "code",
   "execution_count": 7,
   "id": "9f4c01bd",
   "metadata": {
    "ExecuteTime": {
     "end_time": "2023-08-13T17:25:32.550649Z",
     "start_time": "2023-08-13T17:25:32.533908Z"
    }
   },
   "outputs": [
    {
     "data": {
      "text/latex": [
       "$\\displaystyle 25000 \\left(x + 1\\right)^{5} + 5 \\left(x + 1\\right)^{4} \\cdot \\left(25000 x + 500\\right) + \\frac{5 \\cdot \\left(25000 x + 500\\right) e^{5 x}}{\\left(e^{5 x} + 1\\right)^{2}} - 25000 - \\frac{25000}{e^{5 x} + 1}$"
      ],
      "text/plain": [
       "25000*(x + 1)**5 + 5*(x + 1)**4*(25000*x + 500) + 5*(25000*x + 500)*exp(5*x)/(exp(5*x) + 1)**2 - 25000 - 25000/(exp(5*x) + 1)"
      ]
     },
     "execution_count": 7,
     "metadata": {},
     "output_type": "execute_result"
    }
   ],
   "source": [
    "final_eq.subs({n:5, w:0, a: 500, b: 5000, theta:5})"
   ]
  },
  {
   "cell_type": "code",
   "execution_count": 8,
   "id": "2f3f56ab",
   "metadata": {
    "ExecuteTime": {
     "end_time": "2023-08-13T17:25:32.662760Z",
     "start_time": "2023-08-13T17:25:32.552004Z"
    }
   },
   "outputs": [
    {
     "data": {
      "image/png": "[encoded data removed]",
      "text/plain": [
       "<Figure size 432x288 with 1 Axes>"
      ]
     },
     "metadata": {
      "needs_background": "light"
     },
     "output_type": "display_data"
    },
    {
     "data": {
      "text/plain": [
       "<sympy.plotting.plot.Plot at 0x7fe001d1c750>"
      ]
     },
     "execution_count": 8,
     "metadata": {},
     "output_type": "execute_result"
    }
   ],
   "source": [
    "sp.plotting.plot(final_eq.subs({n:5, w:0, a: 15000, b: 100000, theta:5}), (x, 0, 0.1))"
   ]
  },
  {
   "cell_type": "code",
   "execution_count": null,
   "id": "28e9cd2f",
   "metadata": {},
   "outputs": [],
   "source": []
  },
  {
   "cell_type": "code",
   "execution_count": null,
   "id": "d0056388",
   "metadata": {},
   "outputs": [],
   "source": []
  },
  {
   "cell_type": "code",
   "execution_count": null,
   "id": "d2f580c5",
   "metadata": {},
   "outputs": [],
   "source": []
  },
  {
   "cell_type": "code",
   "execution_count": null,
   "id": "e332a076",
   "metadata": {},
   "outputs": [],
   "source": []
  },
  {
   "cell_type": "code",
   "execution_count": 233,
   "id": "cb279fac",
   "metadata": {
    "ExecuteTime": {
     "end_time": "2023-08-14T11:20:31.300674Z",
     "start_time": "2023-08-14T11:20:31.265916Z"
    }
   },
   "outputs": [],
   "source": [
    "def sample_sparse_coefs(nx, p=0.8):\n",
    "    return np.random.uniform(-1, 1, nx)*np.random.binomial(1, p, nx)\n",
    "    \n",
    "    \n",
    "def sample_from(dist, mu, var, n):\n",
    "    if dist == \"gamma\":\n",
    "        return np.random.gamma(mu**2/var, np.abs(var/mu), n)\n",
    "    \n",
    "    if dist == \"normal\":\n",
    "        return np.random.normal(mu, np.sqrt(var), n)\n",
    "    \n",
    "    if dist == \"uniform\":\n",
    "        a = mu-np.sqrt(3 * var)\n",
    "        return np.random.uniform(a, 2*mu - a, n)\n",
    "    \n",
    "\n",
    "def risk_fn(risk_latent):\n",
    "    return expit(risk_latent)\n",
    "\n",
    "\n",
    "def sample_default(risk):\n",
    "    return np.random.binomial(1, risk)\n",
    "\n",
    "\n",
    "def sample_loan_amt(base_latent_risk):\n",
    "    return np.random.normal(15000 + 1000*base_latent_risk).clip(500)\n",
    "\n",
    "\n",
    "def sample_installments(base_latent_risk):\n",
    "    mu = np.clip(5+((base_latent_risk-base_latent_risk.mean())/base_latent_risk.std()), 0, np.inf)\n",
    "    return np.random.poisson(mu*2)+1\n",
    "    \n",
    "\n",
    "def first_default(arr, axis):\n",
    "    mask = arr!=1\n",
    "    return np.where(mask.any(axis=axis), mask.argmax(axis=axis), arr.shape[1])\n",
    "\n",
    "\n",
    "def defaulted_at_period(risk, periods):\n",
    "    survival = np.power(1-risk, 1/periods)\n",
    "    max_period = periods.max()\n",
    "    survival_sequence = np.random.binomial(1, np.ones((len(survival), max_period))* survival.reshape(-1,1))\n",
    "    survived_up_to = first_default(survival_sequence, axis=1)\n",
    "    return np.clip(survived_up_to, 0, periods)\n",
    "    \n",
    "\n",
    "    \n",
    "class LendingWorld(object):\n",
    "    \n",
    "    \n",
    "    def __init__(self, nx=10, poly=2, bias=1, temp=0.01, seed=123):\n",
    "        \n",
    "        np.random.seed(seed)\n",
    "\n",
    "        self.NX = nx\n",
    "        self.POLY = poly\n",
    "        self.POLY_GEN = PolynomialFeatures(self.POLY, include_bias=False)\n",
    "        \n",
    "        self.MUS = np.random.uniform(-2, 2, self.NX)\n",
    "        self.VARS = np.random.exponential(1, self.NX)\n",
    "        self.DISTS = np.random.choice([\"normal\"], self.NX)\n",
    "        \n",
    "        poly_mu = self.POLY_GEN.fit_transform(self.MUS.reshape(1, -1))\n",
    "        \n",
    "        self.NX_FINAL = poly_mu.shape[1]\n",
    "        \n",
    "        self.RISK_COEFS = sample_sparse_coefs(self.NX_FINAL)\n",
    "        self.RISK_SENS_COEFS = sample_sparse_coefs(self.NX_FINAL)\n",
    "        \n",
    "        self.RISK_MU = poly_mu.dot(self.RISK_COEFS).mean()\n",
    "        self.RISK_SENS_MU = poly_mu.dot(self.RISK_SENS_COEFS).mean()\n",
    "        \n",
    "        self.temp = temp\n",
    "        self.bias = bias\n",
    "        \n",
    "        self.features = [f\"col_{i+1}\" for i in range(self.NX)]\n",
    "\n",
    "    \n",
    "    def baseline_risk_fn(self, x):\n",
    "        return x.dot(self.RISK_COEFS) - self.RISK_MU\n",
    "    \n",
    "    \n",
    "    def sample_risk_sens_fn(self, x):\n",
    "        return x.dot(self.RISK_SENS_COEFS) - self.RISK_SENS_MU + 50\n",
    "    \n",
    "    \n",
    "    def risk_latent_fn(self, x, price, risk_sens):\n",
    "        return self.baseline_risk_fn(x)*0.2 + risk_sens*price\n",
    "    \n",
    "    \n",
    "    def sample_features(self, n):\n",
    "        X = np.hstack([sample_from(dist, mu, var, n).reshape(-1, 1)\n",
    "                       for dist, mu, var in zip(self.DISTS, self.MUS, self.VARS)])\n",
    "        \n",
    "        X_poly = self.POLY_GEN.fit_transform(X)\n",
    "        \n",
    "        baseline_risk = self.baseline_risk_fn(X_poly)\n",
    "        loan_amt = sample_loan_amt(baseline_risk)\n",
    "        installments = sample_installments(baseline_risk)\n",
    "        \n",
    "        return (pd.DataFrame(X, columns=self.features)\n",
    "                .assign(loan_amt = loan_amt,\n",
    "                        installments=installments,))\n",
    "\n",
    "    \n",
    "    def outcome_fn(self, df, price):\n",
    "        \n",
    "        X = df[self.features]\n",
    "        X_poly = self.POLY_GEN.fit_transform(X)\n",
    "        \n",
    "        risk_sens = self.sample_risk_sens_fn(X_poly)\n",
    "        risk_latent = self.risk_latent_fn(X_poly, price, risk_sens)\n",
    "        risk = risk_fn(risk_latent)\n",
    "\n",
    "        survived_up_to = defaulted_at_period(risk, df[\"installments\"].values)\n",
    "        interest_revenues = df[\"loan_amt\"]*((1+price)**survived_up_to - 1)\n",
    "        \n",
    "        default = (survived_up_to < df[\"installments\"])*1\n",
    "        loss = risk*df[\"loan_amt\"]\n",
    "        \n",
    "        margin = interest_revenues - loss\n",
    "        \n",
    "        return df.assign(**dict(\n",
    "            price=price,\n",
    "            risk=risk,\n",
    "            \n",
    "            risk_baseline=self.baseline_risk_fn(X_poly), \n",
    "            risk_sens=risk_sens,\n",
    "            risk_latent=risk_latent,\n",
    "            \n",
    "            interest_revenues=interest_revenues,\n",
    "            survived_up_to=survived_up_to,\n",
    "            default=default,\n",
    "            loss=loss,\n",
    "            \n",
    "            margin = margin\n",
    "        ))\n",
    "\n",
    "        \n",
    "        \n",
    "\n",
    "world = LendingWorld(seed=10)"
   ]
  },
  {
   "cell_type": "code",
   "execution_count": 234,
   "id": "095e7db9",
   "metadata": {
    "ExecuteTime": {
     "end_time": "2023-08-14T11:20:31.934514Z",
     "start_time": "2023-08-14T11:20:31.917682Z"
    }
   },
   "outputs": [
    {
     "data": {
      "text/html": [
       "<div>\n",
       "<style scoped>\n",
       "    .dataframe tbody tr th:only-of-type {\n",
       "        vertical-align: middle;\n",
       "    }\n",
       "\n",
       "    .dataframe tbody tr th {\n",
       "        vertical-align: top;\n",
       "    }\n",
       "\n",
       "    .dataframe thead th {\n",
       "        text-align: right;\n",
       "    }\n",
       "</style>\n",
       "<table border=\"1\" class=\"dataframe\">\n",
       "  <thead>\n",
       "    <tr style=\"text-align: right;\">\n",
       "      <th></th>\n",
       "      <th>col_1</th>\n",
       "      <th>col_2</th>\n",
       "      <th>col_3</th>\n",
       "      <th>col_4</th>\n",
       "      <th>col_5</th>\n",
       "      <th>col_6</th>\n",
       "      <th>col_7</th>\n",
       "      <th>col_8</th>\n",
       "      <th>col_9</th>\n",
       "      <th>col_10</th>\n",
       "      <th>...</th>\n",
       "      <th>price</th>\n",
       "      <th>risk</th>\n",
       "      <th>risk_baseline</th>\n",
       "      <th>risk_sens</th>\n",
       "      <th>risk_latent</th>\n",
       "      <th>interest_revenues</th>\n",
       "      <th>survived_up_to</th>\n",
       "      <th>default</th>\n",
       "      <th>loss</th>\n",
       "      <th>margin</th>\n",
       "    </tr>\n",
       "  </thead>\n",
       "  <tbody>\n",
       "    <tr>\n",
       "      <th>0</th>\n",
       "      <td>-1.084422</td>\n",
       "      <td>-2.367934</td>\n",
       "      <td>0.526254</td>\n",
       "      <td>2.191588</td>\n",
       "      <td>2.455746</td>\n",
       "      <td>-1.018886</td>\n",
       "      <td>-0.989530</td>\n",
       "      <td>1.165759</td>\n",
       "      <td>-3.330629</td>\n",
       "      <td>-1.301019</td>\n",
       "      <td>...</td>\n",
       "      <td>0.06</td>\n",
       "      <td>0.983096</td>\n",
       "      <td>2.596551</td>\n",
       "      <td>59.064255</td>\n",
       "      <td>4.063165</td>\n",
       "      <td>3361.058951</td>\n",
       "      <td>3</td>\n",
       "      <td>1</td>\n",
       "      <td>17298.258315</td>\n",
       "      <td>-13937.199364</td>\n",
       "    </tr>\n",
       "    <tr>\n",
       "      <th>1</th>\n",
       "      <td>1.666540</td>\n",
       "      <td>-0.637871</td>\n",
       "      <td>0.516337</td>\n",
       "      <td>0.413819</td>\n",
       "      <td>0.355857</td>\n",
       "      <td>-1.669902</td>\n",
       "      <td>-1.203196</td>\n",
       "      <td>1.637821</td>\n",
       "      <td>-0.812408</td>\n",
       "      <td>-0.647217</td>\n",
       "      <td>...</td>\n",
       "      <td>0.08</td>\n",
       "      <td>0.983671</td>\n",
       "      <td>1.102230</td>\n",
       "      <td>48.474123</td>\n",
       "      <td>4.098376</td>\n",
       "      <td>9449.771338</td>\n",
       "      <td>6</td>\n",
       "      <td>1</td>\n",
       "      <td>15838.944978</td>\n",
       "      <td>-6389.173640</td>\n",
       "    </tr>\n",
       "    <tr>\n",
       "      <th>2</th>\n",
       "      <td>-0.465659</td>\n",
       "      <td>-4.890899</td>\n",
       "      <td>0.474618</td>\n",
       "      <td>1.459461</td>\n",
       "      <td>0.796682</td>\n",
       "      <td>-0.514620</td>\n",
       "      <td>-1.393324</td>\n",
       "      <td>0.472148</td>\n",
       "      <td>0.076496</td>\n",
       "      <td>-1.634298</td>\n",
       "      <td>...</td>\n",
       "      <td>0.03</td>\n",
       "      <td>0.827323</td>\n",
       "      <td>0.162676</td>\n",
       "      <td>51.141213</td>\n",
       "      <td>1.566772</td>\n",
       "      <td>2415.101425</td>\n",
       "      <td>5</td>\n",
       "      <td>1</td>\n",
       "      <td>12544.845607</td>\n",
       "      <td>-10129.744182</td>\n",
       "    </tr>\n",
       "    <tr>\n",
       "      <th>3</th>\n",
       "      <td>-0.644756</td>\n",
       "      <td>1.014319</td>\n",
       "      <td>0.571579</td>\n",
       "      <td>0.964390</td>\n",
       "      <td>-1.388775</td>\n",
       "      <td>-0.673974</td>\n",
       "      <td>-2.507103</td>\n",
       "      <td>1.757196</td>\n",
       "      <td>-0.905655</td>\n",
       "      <td>-0.549230</td>\n",
       "      <td>...</td>\n",
       "      <td>0.04</td>\n",
       "      <td>0.092565</td>\n",
       "      <td>-22.678714</td>\n",
       "      <td>56.325690</td>\n",
       "      <td>-2.282715</td>\n",
       "      <td>184.284525</td>\n",
       "      <td>8</td>\n",
       "      <td>0</td>\n",
       "      <td>46.282313</td>\n",
       "      <td>138.002212</td>\n",
       "    </tr>\n",
       "    <tr>\n",
       "      <th>4</th>\n",
       "      <td>0.002893</td>\n",
       "      <td>0.120692</td>\n",
       "      <td>0.538920</td>\n",
       "      <td>0.277580</td>\n",
       "      <td>-0.941095</td>\n",
       "      <td>-1.862587</td>\n",
       "      <td>-2.152743</td>\n",
       "      <td>1.149425</td>\n",
       "      <td>2.342048</td>\n",
       "      <td>-4.329017</td>\n",
       "      <td>...</td>\n",
       "      <td>0.06</td>\n",
       "      <td>0.538707</td>\n",
       "      <td>-17.988401</td>\n",
       "      <td>62.547008</td>\n",
       "      <td>0.155140</td>\n",
       "      <td>209.259556</td>\n",
       "      <td>6</td>\n",
       "      <td>1</td>\n",
       "      <td>269.353742</td>\n",
       "      <td>-60.094186</td>\n",
       "    </tr>\n",
       "  </tbody>\n",
       "</table>\n",
       "<p>5 rows × 22 columns</p>\n",
       "</div>"
      ],
      "text/plain": [
       "      col_1     col_2     col_3     col_4     col_5     col_6     col_7  \\\n",
       "0 -1.084422 -2.367934  0.526254  2.191588  2.455746 -1.018886 -0.989530   \n",
       "1  1.666540 -0.637871  0.516337  0.413819  0.355857 -1.669902 -1.203196   \n",
       "2 -0.465659 -4.890899  0.474618  1.459461  0.796682 -0.514620 -1.393324   \n",
       "3 -0.644756  1.014319  0.571579  0.964390 -1.388775 -0.673974 -2.507103   \n",
       "4  0.002893  0.120692  0.538920  0.277580 -0.941095 -1.862587 -2.152743   \n",
       "\n",
       "      col_8     col_9    col_10  ...  price      risk  risk_baseline  \\\n",
       "0  1.165759 -3.330629 -1.301019  ...   0.06  0.983096       2.596551   \n",
       "1  1.637821 -0.812408 -0.647217  ...   0.08  0.983671       1.102230   \n",
       "2  0.472148  0.076496 -1.634298  ...   0.03  0.827323       0.162676   \n",
       "3  1.757196 -0.905655 -0.549230  ...   0.04  0.092565     -22.678714   \n",
       "4  1.149425  2.342048 -4.329017  ...   0.06  0.538707     -17.988401   \n",
       "\n",
       "   risk_sens  risk_latent  interest_revenues  survived_up_to  default  \\\n",
       "0  59.064255     4.063165        3361.058951               3        1   \n",
       "1  48.474123     4.098376        9449.771338               6        1   \n",
       "2  51.141213     1.566772        2415.101425               5        1   \n",
       "3  56.325690    -2.282715         184.284525               8        0   \n",
       "4  62.547008     0.155140         209.259556               6        1   \n",
       "\n",
       "           loss        margin  \n",
       "0  17298.258315 -13937.199364  \n",
       "1  15838.944978  -6389.173640  \n",
       "2  12544.845607 -10129.744182  \n",
       "3     46.282313    138.002212  \n",
       "4    269.353742    -60.094186  \n",
       "\n",
       "[5 rows x 22 columns]"
      ]
     },
     "execution_count": 234,
     "metadata": {},
     "output_type": "execute_result"
    }
   ],
   "source": [
    "price_space = np.arange(.01, .1, .01)\n",
    "\n",
    "loans = world.sample_features(n=5)\n",
    "output = world.outcome_fn(loans, np.random.choice(price_space, len(loans)))\n",
    "output.head()"
   ]
  },
  {
   "cell_type": "code",
   "execution_count": 235,
   "id": "fac3e088",
   "metadata": {
    "ExecuteTime": {
     "end_time": "2023-08-14T11:20:32.520850Z",
     "start_time": "2023-08-14T11:20:32.486606Z"
    }
   },
   "outputs": [],
   "source": [
    "np.random.seed(1)\n",
    "output_exp = pd.concat([world.outcome_fn(loans.reset_index(), np.random.choice([p], len(loans)))\n",
    "                        for p in price_space\n",
    "                       ]).reset_index(drop=True)\n",
    "\n"
   ]
  },
  {
   "cell_type": "code",
   "execution_count": 236,
   "id": "98ad034e",
   "metadata": {
    "ExecuteTime": {
     "end_time": "2023-08-14T11:20:33.065667Z",
     "start_time": "2023-08-14T11:20:33.061893Z"
    }
   },
   "outputs": [
    {
     "data": {
      "text/plain": [
       "Index(['index', 'col_1', 'col_2', 'col_3', 'col_4', 'col_5', 'col_6', 'col_7',\n",
       "       'col_8', 'col_9', 'col_10', 'loan_amt', 'installments', 'price', 'risk',\n",
       "       'risk_baseline', 'risk_sens', 'risk_latent', 'interest_revenues',\n",
       "       'survived_up_to', 'default', 'loss', 'margin'],\n",
       "      dtype='object')"
      ]
     },
     "execution_count": 236,
     "metadata": {},
     "output_type": "execute_result"
    }
   ],
   "source": [
    "output_exp.query(\"index==1\").columns"
   ]
  },
  {
   "cell_type": "code",
   "execution_count": 237,
   "id": "58d6d727",
   "metadata": {
    "ExecuteTime": {
     "end_time": "2023-08-14T11:20:34.140816Z",
     "start_time": "2023-08-14T11:20:33.603968Z"
    }
   },
   "outputs": [
    {
     "data": {
      "image/png": "[encoded data removed]",
      "text/plain": [
       "<Figure size 432x288 with 1 Axes>"
      ]
     },
     "metadata": {
      "needs_background": "light"
     },
     "output_type": "display_data"
    },
    {
     "data": {
      "image/png": "[encoded data removed]",
      "text/plain": [
       "<Figure size 432x288 with 1 Axes>"
      ]
     },
     "metadata": {
      "needs_background": "light"
     },
     "output_type": "display_data"
    },
    {
     "data": {
      "image/png": "[encoded data removed]",
      "text/plain": [
       "<Figure size 432x288 with 1 Axes>"
      ]
     },
     "metadata": {
      "needs_background": "light"
     },
     "output_type": "display_data"
    },
    {
     "data": {
      "image/png": "[encoded data removed]",
      "text/plain": [
       "<Figure size 432x288 with 1 Axes>"
      ]
     },
     "metadata": {
      "needs_background": "light"
     },
     "output_type": "display_data"
    },
    {
     "data": {
      "image/png": "[encoded data removed]",
      "text/plain": [
       "<Figure size 432x288 with 1 Axes>"
      ]
     },
     "metadata": {
      "needs_background": "light"
     },
     "output_type": "display_data"
    }
   ],
   "source": [
    "sns.lineplot(data=output_exp, x=\"price\", y=\"risk_latent\", hue=\"index\")\n",
    "plt.show()\n",
    "\n",
    "sns.lineplot(data=output_exp, x=\"price\", y=\"risk\", hue=\"index\")\n",
    "plt.show()\n",
    "\n",
    "sns.lineplot(data=output_exp, x=\"price\", y=\"loss\", hue=\"index\")\n",
    "plt.show()\n",
    "\n",
    "sns.lineplot(data=output_exp, x=\"price\", y=\"survived_up_to\", hue=\"index\")\n",
    "plt.show()\n",
    "\n",
    "sns.lineplot(data=output_exp, x=\"price\", y=\"interest_revenues\", hue=\"index\")\n",
    "plt.show()"
   ]
  },
  {
   "cell_type": "code",
   "execution_count": null,
   "id": "98f9ebdc",
   "metadata": {},
   "outputs": [],
   "source": []
  },
  {
   "cell_type": "code",
   "execution_count": 238,
   "id": "acc01d31",
   "metadata": {
    "ExecuteTime": {
     "end_time": "2023-08-14T11:20:34.860940Z",
     "start_time": "2023-08-14T11:20:34.732015Z"
    }
   },
   "outputs": [
    {
     "data": {
      "text/html": [
       "<div>\n",
       "<style scoped>\n",
       "    .dataframe tbody tr th:only-of-type {\n",
       "        vertical-align: middle;\n",
       "    }\n",
       "\n",
       "    .dataframe tbody tr th {\n",
       "        vertical-align: top;\n",
       "    }\n",
       "\n",
       "    .dataframe thead th {\n",
       "        text-align: right;\n",
       "    }\n",
       "</style>\n",
       "<table border=\"1\" class=\"dataframe\">\n",
       "  <thead>\n",
       "    <tr style=\"text-align: right;\">\n",
       "      <th></th>\n",
       "      <th>col_1</th>\n",
       "      <th>col_2</th>\n",
       "      <th>col_3</th>\n",
       "      <th>col_4</th>\n",
       "      <th>col_5</th>\n",
       "      <th>col_6</th>\n",
       "      <th>col_7</th>\n",
       "      <th>col_8</th>\n",
       "      <th>col_9</th>\n",
       "      <th>col_10</th>\n",
       "      <th>...</th>\n",
       "      <th>price</th>\n",
       "      <th>risk</th>\n",
       "      <th>risk_baseline</th>\n",
       "      <th>risk_sens</th>\n",
       "      <th>risk_latent</th>\n",
       "      <th>interest_revenues</th>\n",
       "      <th>survived_up_to</th>\n",
       "      <th>default</th>\n",
       "      <th>loss</th>\n",
       "      <th>margin</th>\n",
       "    </tr>\n",
       "  </thead>\n",
       "  <tbody>\n",
       "    <tr>\n",
       "      <th>0</th>\n",
       "      <td>1.043153</td>\n",
       "      <td>-1.215860</td>\n",
       "      <td>0.499543</td>\n",
       "      <td>0.743099</td>\n",
       "      <td>1.506319</td>\n",
       "      <td>-2.290555</td>\n",
       "      <td>-1.756349</td>\n",
       "      <td>0.036257</td>\n",
       "      <td>-0.948337</td>\n",
       "      <td>-1.975928</td>\n",
       "      <td>...</td>\n",
       "      <td>0.09</td>\n",
       "      <td>0.975332</td>\n",
       "      <td>-6.470171</td>\n",
       "      <td>55.236659</td>\n",
       "      <td>3.677265</td>\n",
       "      <td>2516.497357</td>\n",
       "      <td>3</td>\n",
       "      <td>1</td>\n",
       "      <td>8319.250102</td>\n",
       "      <td>-5802.752745</td>\n",
       "    </tr>\n",
       "    <tr>\n",
       "      <th>1</th>\n",
       "      <td>0.839297</td>\n",
       "      <td>-2.677129</td>\n",
       "      <td>0.606073</td>\n",
       "      <td>0.204843</td>\n",
       "      <td>-0.518598</td>\n",
       "      <td>-1.244388</td>\n",
       "      <td>0.332802</td>\n",
       "      <td>1.100235</td>\n",
       "      <td>-3.158967</td>\n",
       "      <td>-2.840982</td>\n",
       "      <td>...</td>\n",
       "      <td>0.03</td>\n",
       "      <td>0.782883</td>\n",
       "      <td>-2.087077</td>\n",
       "      <td>56.665505</td>\n",
       "      <td>1.282550</td>\n",
       "      <td>2505.775229</td>\n",
       "      <td>6</td>\n",
       "      <td>1</td>\n",
       "      <td>10109.285402</td>\n",
       "      <td>-7603.510173</td>\n",
       "    </tr>\n",
       "    <tr>\n",
       "      <th>2</th>\n",
       "      <td>0.892141</td>\n",
       "      <td>-1.074467</td>\n",
       "      <td>0.541787</td>\n",
       "      <td>0.057075</td>\n",
       "      <td>-0.060754</td>\n",
       "      <td>-1.895005</td>\n",
       "      <td>-1.445646</td>\n",
       "      <td>0.383741</td>\n",
       "      <td>0.349189</td>\n",
       "      <td>-3.385184</td>\n",
       "      <td>...</td>\n",
       "      <td>0.06</td>\n",
       "      <td>0.699847</td>\n",
       "      <td>-12.569734</td>\n",
       "      <td>56.008568</td>\n",
       "      <td>0.846567</td>\n",
       "      <td>637.809858</td>\n",
       "      <td>4</td>\n",
       "      <td>1</td>\n",
       "      <td>1700.602692</td>\n",
       "      <td>-1062.792834</td>\n",
       "    </tr>\n",
       "    <tr>\n",
       "      <th>3</th>\n",
       "      <td>1.624801</td>\n",
       "      <td>-0.351342</td>\n",
       "      <td>0.540892</td>\n",
       "      <td>0.619737</td>\n",
       "      <td>0.653565</td>\n",
       "      <td>-0.693809</td>\n",
       "      <td>-3.735346</td>\n",
       "      <td>0.557465</td>\n",
       "      <td>-1.917141</td>\n",
       "      <td>-1.093447</td>\n",
       "      <td>...</td>\n",
       "      <td>0.06</td>\n",
       "      <td>0.761803</td>\n",
       "      <td>-9.302371</td>\n",
       "      <td>50.384427</td>\n",
       "      <td>1.162591</td>\n",
       "      <td>5765.334610</td>\n",
       "      <td>12</td>\n",
       "      <td>0</td>\n",
       "      <td>4339.128604</td>\n",
       "      <td>1426.206006</td>\n",
       "    </tr>\n",
       "    <tr>\n",
       "      <th>4</th>\n",
       "      <td>0.447245</td>\n",
       "      <td>-0.836745</td>\n",
       "      <td>0.568178</td>\n",
       "      <td>0.936584</td>\n",
       "      <td>1.865207</td>\n",
       "      <td>-1.385278</td>\n",
       "      <td>-1.744353</td>\n",
       "      <td>1.875536</td>\n",
       "      <td>-3.555830</td>\n",
       "      <td>-1.527544</td>\n",
       "      <td>...</td>\n",
       "      <td>0.07</td>\n",
       "      <td>0.981422</td>\n",
       "      <td>-3.017687</td>\n",
       "      <td>65.293369</td>\n",
       "      <td>3.966998</td>\n",
       "      <td>11589.271073</td>\n",
       "      <td>10</td>\n",
       "      <td>0</td>\n",
       "      <td>11760.268979</td>\n",
       "      <td>-170.997906</td>\n",
       "    </tr>\n",
       "  </tbody>\n",
       "</table>\n",
       "<p>5 rows × 22 columns</p>\n",
       "</div>"
      ],
      "text/plain": [
       "      col_1     col_2     col_3     col_4     col_5     col_6     col_7  \\\n",
       "0  1.043153 -1.215860  0.499543  0.743099  1.506319 -2.290555 -1.756349   \n",
       "1  0.839297 -2.677129  0.606073  0.204843 -0.518598 -1.244388  0.332802   \n",
       "2  0.892141 -1.074467  0.541787  0.057075 -0.060754 -1.895005 -1.445646   \n",
       "3  1.624801 -0.351342  0.540892  0.619737  0.653565 -0.693809 -3.735346   \n",
       "4  0.447245 -0.836745  0.568178  0.936584  1.865207 -1.385278 -1.744353   \n",
       "\n",
       "      col_8     col_9    col_10  ...  price      risk  risk_baseline  \\\n",
       "0  0.036257 -0.948337 -1.975928  ...   0.09  0.975332      -6.470171   \n",
       "1  1.100235 -3.158967 -2.840982  ...   0.03  0.782883      -2.087077   \n",
       "2  0.383741  0.349189 -3.385184  ...   0.06  0.699847     -12.569734   \n",
       "3  0.557465 -1.917141 -1.093447  ...   0.06  0.761803      -9.302371   \n",
       "4  1.875536 -3.555830 -1.527544  ...   0.07  0.981422      -3.017687   \n",
       "\n",
       "   risk_sens  risk_latent  interest_revenues  survived_up_to  default  \\\n",
       "0  55.236659     3.677265        2516.497357               3        1   \n",
       "1  56.665505     1.282550        2505.775229               6        1   \n",
       "2  56.008568     0.846567         637.809858               4        1   \n",
       "3  50.384427     1.162591        5765.334610              12        0   \n",
       "4  65.293369     3.966998       11589.271073              10        0   \n",
       "\n",
       "           loss       margin  \n",
       "0   8319.250102 -5802.752745  \n",
       "1  10109.285402 -7603.510173  \n",
       "2   1700.602692 -1062.792834  \n",
       "3   4339.128604  1426.206006  \n",
       "4  11760.268979  -170.997906  \n",
       "\n",
       "[5 rows x 22 columns]"
      ]
     },
     "execution_count": 238,
     "metadata": {},
     "output_type": "execute_result"
    }
   ],
   "source": [
    "price_space = np.arange(.01, .1, .01)\n",
    "\n",
    "features = world.features\n",
    "\n",
    "loans = world.sample_features(n=50000)\n",
    "output = world.outcome_fn(loans, np.random.choice(price_space, len(loans)))\n",
    "\n",
    "\n",
    "\n",
    "output.head()"
   ]
  },
  {
   "cell_type": "code",
   "execution_count": 239,
   "id": "ee951968",
   "metadata": {
    "ExecuteTime": {
     "end_time": "2023-08-14T11:20:36.419412Z",
     "start_time": "2023-08-14T11:20:35.528957Z"
    }
   },
   "outputs": [
    {
     "name": "stdout",
     "output_type": "stream",
     "text": [
      "0.19641343344817397\n",
      "0.9698507605746288\n"
     ]
    },
    {
     "data": {
      "text/plain": [
       "0.8690017719974308"
      ]
     },
     "execution_count": 239,
     "metadata": {},
     "output_type": "execute_result"
    }
   ],
   "source": [
    "from lightgbm import LGBMRegressor\n",
    "from sklearn.metrics import r2_score\n",
    "\n",
    "rev_model = LGBMRegressor()\n",
    "loss_model = LGBMRegressor()\n",
    "\n",
    "X = output[features+[\"price\"]]\n",
    "rev_model.fit(X, output[\"interest_revenues\"])\n",
    "loss_model.fit(X, output[\"loss\"])\n",
    "\n",
    "print(rev_model.score(X, output[\"interest_revenues\"]))\n",
    "print(loss_model.score(X, output[\"loss\"]))\n",
    "\n",
    "r2_score(output[\"margin\"], rev_model.predict(X) - loss_model.predict(X))"
   ]
  },
  {
   "cell_type": "code",
   "execution_count": 240,
   "id": "c007e0d3",
   "metadata": {
    "ExecuteTime": {
     "end_time": "2023-08-14T11:20:39.040565Z",
     "start_time": "2023-08-14T11:20:37.049095Z"
    }
   },
   "outputs": [],
   "source": [
    "np.random.seed(2)\n",
    "new_sample = world.sample_features(n=50000)\n",
    "\n",
    "price_alocation_sample = (new_sample.reset_index()\n",
    "                          .assign(key=1)\n",
    "                          .merge(pd.DataFrame(dict(price=price_space, key=1)))\n",
    "                          .assign(loss_pred = lambda d: -loss_model.predict(d[features+[\"price\"]]))\n",
    "                          .assign(rev_pred = lambda d: rev_model.predict(d[features+[\"price\"]]))\n",
    "                          .assign(prediction = lambda d: rev_model.predict(d[features+[\"price\"]]) - loss_model.predict(d[features+[\"price\"]]))\n",
    "                          .sort_values([\"index\", \"prediction\"], ascending=(True, False))\n",
    "                          .groupby([\"index\"])\n",
    "                          .first()\n",
    "                         )"
   ]
  },
  {
   "cell_type": "code",
   "execution_count": null,
   "id": "2643d1d2",
   "metadata": {
    "ExecuteTime": {
     "end_time": "2023-08-12T18:54:26.488599Z",
     "start_time": "2023-08-12T18:54:26.475025Z"
    }
   },
   "outputs": [],
   "source": []
  },
  {
   "cell_type": "code",
   "execution_count": 241,
   "id": "75b60b89",
   "metadata": {
    "ExecuteTime": {
     "end_time": "2023-08-14T11:20:39.728161Z",
     "start_time": "2023-08-14T11:20:39.653031Z"
    }
   },
   "outputs": [
    {
     "data": {
      "text/plain": [
       "array([[<AxesSubplot:title={'center':'price'}>]], dtype=object)"
      ]
     },
     "execution_count": 241,
     "metadata": {},
     "output_type": "execute_result"
    },
    {
     "data": {
      "image/png": "[encoded data removed]",
      "text/plain": [
       "<Figure size 432x288 with 1 Axes>"
      ]
     },
     "metadata": {
      "needs_background": "light"
     },
     "output_type": "display_data"
    }
   ],
   "source": [
    "price_alocation_sample[[\"price\"]].hist()"
   ]
  },
  {
   "cell_type": "code",
   "execution_count": 242,
   "id": "006f1a61",
   "metadata": {
    "ExecuteTime": {
     "end_time": "2023-08-14T11:20:40.432176Z",
     "start_time": "2023-08-14T11:20:40.356296Z"
    }
   },
   "outputs": [
    {
     "data": {
      "text/plain": [
       "array([[<AxesSubplot:title={'center':'price'}>]], dtype=object)"
      ]
     },
     "execution_count": 242,
     "metadata": {},
     "output_type": "execute_result"
    },
    {
     "data": {
      "image/png": "[encoded data removed]",
      "text/plain": [
       "<Figure size 432x288 with 1 Axes>"
      ]
     },
     "metadata": {
      "needs_background": "light"
     },
     "output_type": "display_data"
    }
   ],
   "source": [
    "price_alocation_sample.query(\"prediction>0\")[[\"price\"]].hist()"
   ]
  },
  {
   "cell_type": "code",
   "execution_count": null,
   "id": "7dacd813",
   "metadata": {},
   "outputs": [],
   "source": []
  },
  {
   "cell_type": "code",
   "execution_count": null,
   "id": "bed85d08",
   "metadata": {},
   "outputs": [],
   "source": []
  }
 ],
 "metadata": {
  "kernelspec": {
   "display_name": "Python [conda env:root] *",
   "language": "python",
   "name": "conda-root-py"
  },
  "language_info": {
   "codemirror_mode": {
    "name": "ipython",
    "version": 3
   },
   "file_extension": ".py",
   "mimetype": "text/x-python",
   "name": "python",
   "nbconvert_exporter": "python",
   "pygments_lexer": "ipython3",
   "version": "3.7.12"
  },
  "toc": {
   "base_numbering": 1,
   "nav_menu": {},
   "number_sections": true,
   "sideBar": true,
   "skip_h1_title": false,
   "title_cell": "Table of Contents",
   "title_sidebar": "Contents",
   "toc_cell": false,
   "toc_position": {},
   "toc_section_display": true,
   "toc_window_display": false
  },
  "varInspector": {
   "cols": {
    "lenName": 16,
    "lenType": 16,
    "lenVar": 40
   },
   "kernels_config": {
    "python": {
     "delete_cmd_postfix": "",
     "delete_cmd_prefix": "del ",
     "library": "var_list.py",
     "varRefreshCmd": "print(var_dic_list())"
    },
    "r": {
     "delete_cmd_postfix": ") ",
     "delete_cmd_prefix": "rm(",
     "library": "var_list.r",
     "varRefreshCmd": "cat(var_dic_list()) "
    }
   },
   "types_to_exclude": [
    "module",
    "function",
    "builtin_function_or_method",
    "instance",
    "_Feature"
   ],
   "window_display": false
  }
 },
 "nbformat": 4,
 "nbformat_minor": 5
}
