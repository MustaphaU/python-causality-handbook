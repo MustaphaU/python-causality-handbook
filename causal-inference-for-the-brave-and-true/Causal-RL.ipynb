{
 "cells": [
  {
   "cell_type": "code",
   "execution_count": 1,
   "id": "69560317",
   "metadata": {
    "ExecuteTime": {
     "end_time": "2023-08-06T14:47:11.258051Z",
     "start_time": "2023-08-06T14:47:09.288371Z"
    }
   },
   "outputs": [],
   "source": [
    "import pandas as pd\n",
    "import numpy as np\n",
    "from scipy import stats\n",
    "from matplotlib import pyplot as plt\n",
    "from scipy.special import expit\n",
    "\n",
    "from sklearn.preprocessing import PolynomialFeatures"
   ]
  },
  {
   "cell_type": "markdown",
   "id": "c96f70a5",
   "metadata": {},
   "source": [
    "# DGP"
   ]
  },
  {
   "cell_type": "code",
   "execution_count": 2,
   "id": "3df63856",
   "metadata": {
    "ExecuteTime": {
     "end_time": "2023-08-06T14:47:11.358761Z",
     "start_time": "2023-08-06T14:47:11.259612Z"
    }
   },
   "outputs": [
    {
     "data": {
      "text/plain": [
       "(array([518., 263., 103.,  62.,  33.,  12.,   7.,   0.,   1.,   1.]),\n",
       " array([2.11384718e+00, 7.83647339e+02, 1.56518083e+03, 2.34671432e+03,\n",
       "        3.12824782e+03, 3.90978131e+03, 4.69131480e+03, 5.47284829e+03,\n",
       "        6.25438178e+03, 7.03591528e+03, 7.81744877e+03]),\n",
       " <BarContainer object of 10 artists>)"
      ]
     },
     "execution_count": 2,
     "metadata": {},
     "output_type": "execute_result"
    },
    {
     "data": {
      "image/png": "[encoded data removed]",
      "text/plain": [
       "<Figure size 432x288 with 1 Axes>"
      ]
     },
     "metadata": {
      "needs_background": "light"
     },
     "output_type": "display_data"
    }
   ],
   "source": [
    "plt.hist(np.random.exponential(1000,1000))"
   ]
  },
  {
   "cell_type": "code",
   "execution_count": null,
   "id": "84c6de48",
   "metadata": {},
   "outputs": [],
   "source": []
  },
  {
   "cell_type": "code",
   "execution_count": 3,
   "id": "cb279fac",
   "metadata": {
    "ExecuteTime": {
     "end_time": "2023-08-06T14:47:11.418158Z",
     "start_time": "2023-08-06T14:47:11.360285Z"
    }
   },
   "outputs": [
    {
     "name": "stderr",
     "output_type": "stream",
     "text": [
      "/Users/matheus.facure/miniforge3/lib/python3.7/site-packages/ipykernel_launcher.py:42: RuntimeWarning: divide by zero encountered in true_divide\n"
     ]
    },
    {
     "data": {
      "text/plain": [
       "col_1                    0.794741\n",
       "col_2                   -0.859627\n",
       "col_3                    1.085882\n",
       "col_4                    0.206152\n",
       "col_5                    0.871825\n",
       "col_6                    0.310288\n",
       "col_7                    1.915740\n",
       "col_8                    0.742819\n",
       "col_9                   -0.085066\n",
       "col_10                  -0.420560\n",
       "loan_amt             19353.940000\n",
       "installments            10.030300\n",
       "price                    0.054783\n",
       "risk                     0.644316\n",
       "interest_revenues     6251.696529\n",
       "survived_up_to           5.060000\n",
       "default                  0.641300\n",
       "loss                 14161.910000\n",
       "margin               -7910.213471\n",
       "dtype: float64"
      ]
     },
     "execution_count": 3,
     "metadata": {},
     "output_type": "execute_result"
    }
   ],
   "source": [
    "def sample_sparse_coefs(nx, p=0.8):\n",
    "            return np.random.uniform(-5, 5, nx)*np.random.binomial(1, p, nx)\n",
    "    \n",
    "    \n",
    "def sample_from(dist, mu, var, n):\n",
    "    if dist == \"gamma\":\n",
    "        return np.random.gamma(mu**2/var, np.abs(var/mu), n)\n",
    "    \n",
    "    if dist == \"normal\":\n",
    "        return np.random.normal(mu, np.sqrt(var), n)\n",
    "    \n",
    "    if dist == \"uniform\":\n",
    "        a = mu-np.sqrt(3 * var)\n",
    "        return np.random.uniform(a, 2*mu - a, n)\n",
    "    \n",
    "\n",
    "def risk_fn(risk_latent, bias=0, temp=0.1):\n",
    "    return expit(risk_latent*temp + bias)\n",
    "\n",
    "\n",
    "def sample_default(risk):\n",
    "    return np.random.binomial(1, risk)\n",
    "\n",
    "\n",
    "def sample_loan_amt(base_latent_risk):\n",
    "    mu = ((base_latent_risk-base_latent_risk.mean())/base_latent_risk.std())\n",
    "    shape = 50*((mu+5).clip(0, np.inf)**2)/np.var(base_latent_risk)\n",
    "    return np.round(np.random.gamma(shape, 1000)*10, -2).clip(0, 100000)\n",
    "\n",
    "\n",
    "def sample_installments(base_latent_risk):\n",
    "    mu = np.clip(5+((base_latent_risk-base_latent_risk.mean())/base_latent_risk.std()), 0, np.inf)\n",
    "    return np.random.poisson(mu*2)\n",
    "    \n",
    "\n",
    "def first_default(arr, axis):\n",
    "    mask = arr!=1\n",
    "    return np.where(mask.any(axis=axis), mask.argmax(axis=axis), arr.shape[1])\n",
    "\n",
    "\n",
    "def defaulted_at_period(risk, periods):\n",
    "    survival = np.power(1-risk, 1/periods)\n",
    "    max_period = periods.max()\n",
    "    survival_sequence = np.random.binomial(1, np.ones((len(survival), max_period))* survival.reshape(-1,1))\n",
    "    survived_up_to = first_default(survival_sequence, axis=1)\n",
    "    return np.clip(survived_up_to, 0, periods)\n",
    "    \n",
    "    \n",
    "class LendingWorld(object):\n",
    "    \n",
    "    \n",
    "    def __init__(self, nx=10, poly=2, bias=1, temp=0.1, seed=123):\n",
    "        \n",
    "        np.random.seed(seed)\n",
    "\n",
    "        self.NX = nx\n",
    "        self.POLY = poly\n",
    "        self.POLY_GEN = PolynomialFeatures(self.POLY, include_bias=False)\n",
    "        \n",
    "        self.MUS = np.random.uniform(-2, 2, self.NX)\n",
    "        self.VARS = np.random.exponential(1, self.NX)\n",
    "        self.DISTS = np.random.choice([\"gamma\", \"normal\", \"uniform\"], self.NX)\n",
    "        \n",
    "        self.NX_FINAL = self.POLY_GEN.fit_transform(self.MUS.reshape(1, -1)).shape[1]\n",
    "        \n",
    "        self.RISK_COEFS = sample_sparse_coefs(self.NX_FINAL)\n",
    "        self.RISK_SENS_COEFS = sample_sparse_coefs(self.NX_FINAL)\n",
    "        \n",
    "        self.temp = temp\n",
    "        self.bias = bias\n",
    "        \n",
    "        self.features = [f\"col_{i+1}\" for i in range(self.NX)]\n",
    "\n",
    "    \n",
    "    def baseline_risk_fn(self, x):\n",
    "        return x.dot(self.RISK_COEFS)\n",
    "    \n",
    "    \n",
    "    def sample_features(self, n):\n",
    "        X = np.hstack([sample_from(dist, mu, var, n).reshape(-1, 1)\n",
    "                       for dist, mu, var in zip(self.DISTS, self.MUS, self.VARS)])\n",
    "        \n",
    "        X_poly = self.POLY_GEN.fit_transform(X)\n",
    "        \n",
    "        baseline_risk = self.baseline_risk_fn(X_poly)\n",
    "        loan_amt = sample_loan_amt(baseline_risk)\n",
    "        installments = sample_installments(baseline_risk)\n",
    "        \n",
    "        return (pd.DataFrame(X, columns=self.features)\n",
    "                .assign(loan_amt = loan_amt,\n",
    "                        installments=installments,\n",
    "#                         baseline_risk=baseline_risk,\n",
    "                       ))\n",
    "\n",
    "\n",
    "    def sample_risk_sens_fn(self, x):\n",
    "        # exp to make it always positive\n",
    "        return 1.02**np.random.normal(x.dot(self.RISK_SENS_COEFS))\n",
    "    \n",
    "    \n",
    "    def risk_latent_fn(self, x, price, risk_sens):\n",
    "        return self.baseline_risk_fn(x) + risk_sens*price\n",
    "\n",
    "    \n",
    "    def outcome_fn(self, df, price):\n",
    "        \n",
    "        X = df[self.features]\n",
    "        X_poly = self.POLY_GEN.fit_transform(X)\n",
    "        \n",
    "        risk_sens = self.sample_risk_sens_fn(X_poly)\n",
    "        risk_latent = self.risk_latent_fn(X_poly, price, risk_sens)\n",
    "        risk = risk_fn(risk_latent, temp=self.temp, bias=self.bias)\n",
    "\n",
    "        \n",
    "        \n",
    "        survived_up_to = defaulted_at_period(risk, df[\"installments\"].values)\n",
    "        interest_revenues = df[\"loan_amt\"]*(1+price)**survived_up_to - df[\"loan_amt\"]\n",
    "        \n",
    "        default = (survived_up_to < df[\"installments\"])*1\n",
    "        loss = default*df[\"loan_amt\"]\n",
    "        \n",
    "        margin = interest_revenues - loss\n",
    "        return df.assign(**dict(\n",
    "            price=price,\n",
    "            risk=risk,\n",
    "            \n",
    "            \n",
    "            interest_revenues=interest_revenues,\n",
    "            survived_up_to=survived_up_to,\n",
    "            default=default,\n",
    "            loss=loss,\n",
    "            \n",
    "            margin = margin\n",
    "        ))\n",
    "\n",
    "        \n",
    "        \n",
    "\n",
    "world = LendingWorld(seed=123)\n",
    "\n",
    "loans = world.sample_features(n=10000)\n",
    "\n",
    "output = world.outcome_fn(loans, np.random.uniform(0.01, 0.1, len(loans)))\n",
    "\n",
    "output.mean()\n",
    "# X = world.alocate_treatments(X, np.random.uniform(1, 10, 100))"
   ]
  }
 ],
 "metadata": {
  "kernelspec": {
   "display_name": "Python [conda env:root] *",
   "language": "python",
   "name": "conda-root-py"
  },
  "language_info": {
   "codemirror_mode": {
    "name": "ipython",
    "version": 3
   },
   "file_extension": ".py",
   "mimetype": "text/x-python",
   "name": "python",
   "nbconvert_exporter": "python",
   "pygments_lexer": "ipython3",
   "version": "3.7.12"
  },
  "toc": {
   "base_numbering": 1,
   "nav_menu": {},
   "number_sections": true,
   "sideBar": true,
   "skip_h1_title": false,
   "title_cell": "Table of Contents",
   "title_sidebar": "Contents",
   "toc_cell": false,
   "toc_position": {},
   "toc_section_display": true,
   "toc_window_display": false
  },
  "varInspector": {
   "cols": {
    "lenName": 16,
    "lenType": 16,
    "lenVar": 40
   },
   "kernels_config": {
    "python": {
     "delete_cmd_postfix": "",
     "delete_cmd_prefix": "del ",
     "library": "var_list.py",
     "varRefreshCmd": "print(var_dic_list())"
    },
    "r": {
     "delete_cmd_postfix": ") ",
     "delete_cmd_prefix": "rm(",
     "library": "var_list.r",
     "varRefreshCmd": "cat(var_dic_list()) "
    }
   },
   "types_to_exclude": [
    "module",
    "function",
    "builtin_function_or_method",
    "instance",
    "_Feature"
   ],
   "window_display": false
  }
 },
 "nbformat": 4,
 "nbformat_minor": 5
}
