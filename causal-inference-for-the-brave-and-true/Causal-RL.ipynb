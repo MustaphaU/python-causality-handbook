{
 "cells": [
  {
   "cell_type": "code",
   "execution_count": 1,
   "id": "69560317",
   "metadata": {
    "ExecuteTime": {
     "end_time": "2023-08-13T17:25:32.295297Z",
     "start_time": "2023-08-13T17:25:30.064082Z"
    }
   },
   "outputs": [],
   "source": [
    "import pandas as pd\n",
    "import numpy as np\n",
    "from scipy import stats\n",
    "from matplotlib import pyplot as plt\n",
    "from scipy.special import expit\n",
    "import seaborn as sns\n",
    "\n",
    "from sklearn.preprocessing import PolynomialFeatures\n",
    "\n",
    "import sympy as sp"
   ]
  },
  {
   "cell_type": "markdown",
   "id": "c96f70a5",
   "metadata": {},
   "source": [
    "# DGP"
   ]
  },
  {
   "cell_type": "markdown",
   "id": "5c92279d",
   "metadata": {},
   "source": [
    "$$\n",
    "r^*(p) = x\\theta + w\n",
    "$$\n",
    "\n",
    "$$\n",
    "r(r*) = \\dfrac{1}{1+e^{r^*}}\n",
    "$$\n",
    "\n",
    "$$\n",
    "amt(r^*) = a + b r^*\n",
    "$$\n",
    "\n",
    "$$\n",
    "loss(r^*) = amt(r^*)r(r*)\n",
    "$$\n",
    "\n",
    "$$\n",
    "rev(r^*) = amt(r^*)((x+1)^n - 1)\n",
    "$$\n"
   ]
  },
  {
   "cell_type": "code",
   "execution_count": 505,
   "id": "cb279fac",
   "metadata": {
    "ExecuteTime": {
     "end_time": "2023-08-14T12:10:37.980076Z",
     "start_time": "2023-08-14T12:10:37.950188Z"
    }
   },
   "outputs": [],
   "source": [
    "def sample_sparse_coefs(nx, p=0.8):\n",
    "    return np.random.uniform(-1, 1, nx)*np.random.binomial(1, p, nx)\n",
    "    \n",
    "    \n",
    "def sample_from(dist, mu, var, n):\n",
    "    if dist == \"gamma\":\n",
    "        return np.random.gamma(mu**2/var, np.abs(var/mu), n)\n",
    "    \n",
    "    if dist == \"normal\":\n",
    "        return np.random.normal(mu, np.sqrt(var), n)\n",
    "    \n",
    "    if dist == \"uniform\":\n",
    "        a = mu-np.sqrt(3 * var)\n",
    "        return np.random.uniform(a, 2*mu - a, n)\n",
    "    \n",
    "\n",
    "def risk_fn(risk_latent):\n",
    "    return expit(risk_latent)\n",
    "\n",
    "\n",
    "def sample_default(risk):\n",
    "    return np.random.binomial(1, risk)\n",
    "\n",
    "\n",
    "def sample_loan_amt(base_latent_risk):\n",
    "    return np.random.normal(15000 + 500*base_latent_risk).clip(500)\n",
    "\n",
    "\n",
    "def sample_installments(base_latent_risk):\n",
    "    mu = np.clip(5+((base_latent_risk-base_latent_risk.mean())/base_latent_risk.std()), 0, np.inf)\n",
    "    return np.random.poisson(mu*2)+1\n",
    "    \n",
    "\n",
    "def first_default(arr, axis):\n",
    "    mask = arr!=1\n",
    "    return np.where(mask.any(axis=axis), mask.argmax(axis=axis), arr.shape[1])\n",
    "\n",
    "\n",
    "def defaulted_at_period(risk, periods, default_cutoff):\n",
    "    survival = np.power(1-risk, 1/periods)\n",
    "    max_period = periods.max()\n",
    "    \n",
    "    survival_probs = survival.reshape(-1,1)**np.arange(1, max_period+1).reshape(1, -1)\n",
    "    default_sequence = (1 - survival_probs) < default_cutoff.reshape(-1,1)\n",
    "    \n",
    "    survived_up_to = first_default(default_sequence, 1)\n",
    "    \n",
    "    return np.clip(survived_up_to, 0, periods)\n",
    "    \n",
    "\n",
    "    \n",
    "class LendingWorld(object):\n",
    "    \n",
    "    \n",
    "    def __init__(self, nx=10, poly=2, bias=1, temp=0.01, seed=123):\n",
    "        \n",
    "        np.random.seed(seed)\n",
    "\n",
    "        self.NX = nx\n",
    "        self.POLY = poly\n",
    "        self.POLY_GEN = PolynomialFeatures(self.POLY, include_bias=False)\n",
    "        \n",
    "        self.MUS = np.random.uniform(-2, 2, self.NX)\n",
    "        self.VARS = np.random.exponential(1, self.NX)\n",
    "        self.DISTS = np.random.choice([\"normal\"], self.NX)\n",
    "        \n",
    "        poly_mu = self.POLY_GEN.fit_transform(self.MUS.reshape(1, -1))\n",
    "        \n",
    "        self.NX_FINAL = poly_mu.shape[1]\n",
    "        \n",
    "        self.RISK_COEFS = sample_sparse_coefs(self.NX_FINAL)\n",
    "        self.RISK_SENS_COEFS = sample_sparse_coefs(self.NX_FINAL)\n",
    "        \n",
    "        self.RISK_MU = poly_mu.dot(self.RISK_COEFS).mean()\n",
    "        self.RISK_SENS_MU = poly_mu.dot(self.RISK_SENS_COEFS).mean()\n",
    "        \n",
    "        self.temp = temp\n",
    "        self.bias = bias\n",
    "        \n",
    "        self.features = [f\"col_{i+1}\" for i in range(self.NX)]\n",
    "\n",
    "    \n",
    "    def baseline_risk_fn(self, x):\n",
    "        return x.dot(self.RISK_COEFS) - self.RISK_MU\n",
    "    \n",
    "    \n",
    "    def sample_risk_sens_fn(self, x):\n",
    "        return x.dot(self.RISK_SENS_COEFS) - self.RISK_SENS_MU + 50\n",
    "    \n",
    "    \n",
    "    def risk_latent_fn(self, x, price, risk_sens):\n",
    "        return self.baseline_risk_fn(x)*0.2 + risk_sens*price - 2\n",
    "    \n",
    "    \n",
    "    def sample_features(self, n):\n",
    "        X = np.hstack([sample_from(dist, mu, var, n).reshape(-1, 1)\n",
    "                       for dist, mu, var in zip(self.DISTS, self.MUS, self.VARS)])\n",
    "        \n",
    "        X_poly = self.POLY_GEN.fit_transform(X)\n",
    "        \n",
    "        baseline_risk = self.baseline_risk_fn(X_poly)\n",
    "        loan_amt = sample_loan_amt(baseline_risk)\n",
    "        installments = sample_installments(baseline_risk)\n",
    "        \n",
    "        default_cutoff = np.random.uniform(0, 1, n)\n",
    "        \n",
    "        return (pd.DataFrame(X, columns=self.features)\n",
    "                .assign(loan_amt = loan_amt,\n",
    "                        installments=installments,\n",
    "                        default_cutoff=default_cutoff))\n",
    "\n",
    "    \n",
    "    def outcome_fn(self, df, price):\n",
    "        \n",
    "        X = df[self.features]\n",
    "        X_poly = self.POLY_GEN.fit_transform(X)\n",
    "        \n",
    "        risk_sens = self.sample_risk_sens_fn(X_poly)\n",
    "        risk_latent = self.risk_latent_fn(X_poly, price, risk_sens)\n",
    "        risk = risk_fn(risk_latent)\n",
    "        \n",
    "        survived_up_to = defaulted_at_period(risk, df[\"installments\"].values, df[\"default_cutoff\"].values)\n",
    "        interest_revenues = df[\"loan_amt\"]*((1+price)**survived_up_to - 1)\n",
    "        \n",
    "        default = (survived_up_to < df[\"installments\"])*1\n",
    "        loss = default*df[\"loan_amt\"]\n",
    "        \n",
    "        margin = interest_revenues - loss\n",
    "        \n",
    "        return df.assign(**dict(\n",
    "            price=price,\n",
    "            risk=risk,\n",
    "            \n",
    "            risk_baseline=self.baseline_risk_fn(X_poly), \n",
    "            risk_sens=risk_sens,\n",
    "            risk_latent=risk_latent,\n",
    "            \n",
    "            interest_revenues=interest_revenues,\n",
    "            survived_up_to=survived_up_to,\n",
    "            default=default,\n",
    "            loss=loss,\n",
    "            \n",
    "            margin = margin\n",
    "        ))\n",
    "\n",
    "    \n",
    "\n",
    "world = LendingWorld(seed=1)"
   ]
  },
  {
   "cell_type": "code",
   "execution_count": 506,
   "id": "9e4b9b1e",
   "metadata": {
    "ExecuteTime": {
     "end_time": "2023-08-14T12:10:38.623501Z",
     "start_time": "2023-08-14T12:10:38.606475Z"
    }
   },
   "outputs": [
    {
     "data": {
      "text/html": [
       "<div>\n",
       "<style scoped>\n",
       "    .dataframe tbody tr th:only-of-type {\n",
       "        vertical-align: middle;\n",
       "    }\n",
       "\n",
       "    .dataframe tbody tr th {\n",
       "        vertical-align: top;\n",
       "    }\n",
       "\n",
       "    .dataframe thead th {\n",
       "        text-align: right;\n",
       "    }\n",
       "</style>\n",
       "<table border=\"1\" class=\"dataframe\">\n",
       "  <thead>\n",
       "    <tr style=\"text-align: right;\">\n",
       "      <th></th>\n",
       "      <th>col_1</th>\n",
       "      <th>col_2</th>\n",
       "      <th>col_3</th>\n",
       "      <th>col_4</th>\n",
       "      <th>col_5</th>\n",
       "      <th>col_6</th>\n",
       "      <th>col_7</th>\n",
       "      <th>col_8</th>\n",
       "      <th>col_9</th>\n",
       "      <th>col_10</th>\n",
       "      <th>...</th>\n",
       "      <th>price</th>\n",
       "      <th>risk</th>\n",
       "      <th>risk_baseline</th>\n",
       "      <th>risk_sens</th>\n",
       "      <th>risk_latent</th>\n",
       "      <th>interest_revenues</th>\n",
       "      <th>survived_up_to</th>\n",
       "      <th>default</th>\n",
       "      <th>loss</th>\n",
       "      <th>margin</th>\n",
       "    </tr>\n",
       "  </thead>\n",
       "  <tbody>\n",
       "    <tr>\n",
       "      <th>0</th>\n",
       "      <td>-1.243616</td>\n",
       "      <td>1.020097</td>\n",
       "      <td>-2.582887</td>\n",
       "      <td>-1.085746</td>\n",
       "      <td>-1.433051</td>\n",
       "      <td>-0.761391</td>\n",
       "      <td>-1.887948</td>\n",
       "      <td>-1.798706</td>\n",
       "      <td>-0.270450</td>\n",
       "      <td>-0.129940</td>\n",
       "      <td>...</td>\n",
       "      <td>0.08</td>\n",
       "      <td>0.676646</td>\n",
       "      <td>-2.471016</td>\n",
       "      <td>40.407568</td>\n",
       "      <td>0.738402</td>\n",
       "      <td>0.000000</td>\n",
       "      <td>0</td>\n",
       "      <td>1</td>\n",
       "      <td>13764.626118</td>\n",
       "      <td>-13764.626118</td>\n",
       "    </tr>\n",
       "    <tr>\n",
       "      <th>1</th>\n",
       "      <td>0.313683</td>\n",
       "      <td>2.619710</td>\n",
       "      <td>-0.828129</td>\n",
       "      <td>-0.438615</td>\n",
       "      <td>-1.618466</td>\n",
       "      <td>-2.155565</td>\n",
       "      <td>-0.759108</td>\n",
       "      <td>-0.929776</td>\n",
       "      <td>-0.819211</td>\n",
       "      <td>0.205177</td>\n",
       "      <td>...</td>\n",
       "      <td>0.08</td>\n",
       "      <td>0.990914</td>\n",
       "      <td>11.006532</td>\n",
       "      <td>56.131781</td>\n",
       "      <td>4.691849</td>\n",
       "      <td>1640.357452</td>\n",
       "      <td>1</td>\n",
       "      <td>1</td>\n",
       "      <td>20504.468145</td>\n",
       "      <td>-18864.110693</td>\n",
       "    </tr>\n",
       "    <tr>\n",
       "      <th>2</th>\n",
       "      <td>0.127578</td>\n",
       "      <td>1.421804</td>\n",
       "      <td>-2.260560</td>\n",
       "      <td>-0.497863</td>\n",
       "      <td>-1.610001</td>\n",
       "      <td>-1.958300</td>\n",
       "      <td>-0.800389</td>\n",
       "      <td>-0.826537</td>\n",
       "      <td>0.384850</td>\n",
       "      <td>-0.561597</td>\n",
       "      <td>...</td>\n",
       "      <td>0.04</td>\n",
       "      <td>0.524405</td>\n",
       "      <td>0.357109</td>\n",
       "      <td>50.656861</td>\n",
       "      <td>0.097696</td>\n",
       "      <td>11105.999046</td>\n",
       "      <td>14</td>\n",
       "      <td>0</td>\n",
       "      <td>0.000000</td>\n",
       "      <td>11105.999046</td>\n",
       "    </tr>\n",
       "    <tr>\n",
       "      <th>3</th>\n",
       "      <td>-0.652525</td>\n",
       "      <td>2.557199</td>\n",
       "      <td>-2.094637</td>\n",
       "      <td>0.168310</td>\n",
       "      <td>-1.523919</td>\n",
       "      <td>-1.632638</td>\n",
       "      <td>-1.580650</td>\n",
       "      <td>-3.143928</td>\n",
       "      <td>-0.185144</td>\n",
       "      <td>0.528822</td>\n",
       "      <td>...</td>\n",
       "      <td>0.09</td>\n",
       "      <td>0.960287</td>\n",
       "      <td>7.158781</td>\n",
       "      <td>41.708949</td>\n",
       "      <td>3.185562</td>\n",
       "      <td>5481.536412</td>\n",
       "      <td>3</td>\n",
       "      <td>1</td>\n",
       "      <td>18579.652890</td>\n",
       "      <td>-13098.116478</td>\n",
       "    </tr>\n",
       "    <tr>\n",
       "      <th>4</th>\n",
       "      <td>0.705608</td>\n",
       "      <td>0.998919</td>\n",
       "      <td>-2.334509</td>\n",
       "      <td>1.809317</td>\n",
       "      <td>-1.691968</td>\n",
       "      <td>-3.102130</td>\n",
       "      <td>0.075619</td>\n",
       "      <td>1.134617</td>\n",
       "      <td>-0.245871</td>\n",
       "      <td>-0.020669</td>\n",
       "      <td>...</td>\n",
       "      <td>0.04</td>\n",
       "      <td>0.894693</td>\n",
       "      <td>10.026713</td>\n",
       "      <td>53.356390</td>\n",
       "      <td>2.139598</td>\n",
       "      <td>3399.486866</td>\n",
       "      <td>4</td>\n",
       "      <td>1</td>\n",
       "      <td>20013.632905</td>\n",
       "      <td>-16614.146040</td>\n",
       "    </tr>\n",
       "  </tbody>\n",
       "</table>\n",
       "<p>5 rows × 23 columns</p>\n",
       "</div>"
      ],
      "text/plain": [
       "      col_1     col_2     col_3     col_4     col_5     col_6     col_7  \\\n",
       "0 -1.243616  1.020097 -2.582887 -1.085746 -1.433051 -0.761391 -1.887948   \n",
       "1  0.313683  2.619710 -0.828129 -0.438615 -1.618466 -2.155565 -0.759108   \n",
       "2  0.127578  1.421804 -2.260560 -0.497863 -1.610001 -1.958300 -0.800389   \n",
       "3 -0.652525  2.557199 -2.094637  0.168310 -1.523919 -1.632638 -1.580650   \n",
       "4  0.705608  0.998919 -2.334509  1.809317 -1.691968 -3.102130  0.075619   \n",
       "\n",
       "      col_8     col_9    col_10  ...  price      risk  risk_baseline  \\\n",
       "0 -1.798706 -0.270450 -0.129940  ...   0.08  0.676646      -2.471016   \n",
       "1 -0.929776 -0.819211  0.205177  ...   0.08  0.990914      11.006532   \n",
       "2 -0.826537  0.384850 -0.561597  ...   0.04  0.524405       0.357109   \n",
       "3 -3.143928 -0.185144  0.528822  ...   0.09  0.960287       7.158781   \n",
       "4  1.134617 -0.245871 -0.020669  ...   0.04  0.894693      10.026713   \n",
       "\n",
       "   risk_sens  risk_latent  interest_revenues  survived_up_to  default  \\\n",
       "0  40.407568     0.738402           0.000000               0        1   \n",
       "1  56.131781     4.691849        1640.357452               1        1   \n",
       "2  50.656861     0.097696       11105.999046              14        0   \n",
       "3  41.708949     3.185562        5481.536412               3        1   \n",
       "4  53.356390     2.139598        3399.486866               4        1   \n",
       "\n",
       "           loss        margin  \n",
       "0  13764.626118 -13764.626118  \n",
       "1  20504.468145 -18864.110693  \n",
       "2      0.000000  11105.999046  \n",
       "3  18579.652890 -13098.116478  \n",
       "4  20013.632905 -16614.146040  \n",
       "\n",
       "[5 rows x 23 columns]"
      ]
     },
     "execution_count": 506,
     "metadata": {},
     "output_type": "execute_result"
    }
   ],
   "source": [
    "price_space = np.arange(.01, .1, .01)\n",
    "\n",
    "loans = world.sample_features(n=5)\n",
    "output = world.outcome_fn(loans, np.random.choice(price_space, len(loans)))\n",
    "output"
   ]
  },
  {
   "cell_type": "code",
   "execution_count": 507,
   "id": "babed139",
   "metadata": {
    "ExecuteTime": {
     "end_time": "2023-08-14T12:10:39.233219Z",
     "start_time": "2023-08-14T12:10:39.197989Z"
    }
   },
   "outputs": [],
   "source": [
    "np.random.seed(1)\n",
    "output_exp = pd.concat([world.outcome_fn(loans.reset_index(), np.random.choice([p], len(loans)))\n",
    "                        for p in price_space\n",
    "                       ]).reset_index(drop=True)\n",
    "\n"
   ]
  },
  {
   "cell_type": "code",
   "execution_count": 508,
   "id": "2feda5fe",
   "metadata": {
    "ExecuteTime": {
     "end_time": "2023-08-14T12:10:40.306563Z",
     "start_time": "2023-08-14T12:10:39.787701Z"
    }
   },
   "outputs": [
    {
     "data": {
      "image/png": "[encoded data removed]",
      "text/plain": [
       "<Figure size 432x288 with 1 Axes>"
      ]
     },
     "metadata": {
      "needs_background": "light"
     },
     "output_type": "display_data"
    },
    {
     "data": {
      "image/png": "[encoded data removed]",
      "text/plain": [
       "<Figure size 432x288 with 1 Axes>"
      ]
     },
     "metadata": {
      "needs_background": "light"
     },
     "output_type": "display_data"
    },
    {
     "data": {
      "image/png": "[encoded data removed]",
      "text/plain": [
       "<Figure size 432x288 with 1 Axes>"
      ]
     },
     "metadata": {
      "needs_background": "light"
     },
     "output_type": "display_data"
    },
    {
     "data": {
      "image/png": "[encoded data removed]",
      "text/plain": [
       "<Figure size 432x288 with 1 Axes>"
      ]
     },
     "metadata": {
      "needs_background": "light"
     },
     "output_type": "display_data"
    },
    {
     "data": {
      "image/png": "[encoded data removed]",
      "text/plain": [
       "<Figure size 432x288 with 1 Axes>"
      ]
     },
     "metadata": {
      "needs_background": "light"
     },
     "output_type": "display_data"
    }
   ],
   "source": [
    "sns.lineplot(data=output_exp, x=\"price\", y=\"risk_latent\", hue=\"index\")\n",
    "plt.show()\n",
    "\n",
    "sns.lineplot(data=output_exp, x=\"price\", y=\"risk\", hue=\"index\")\n",
    "plt.show()\n",
    "\n",
    "sns.lineplot(data=output_exp, x=\"price\", y=\"loss\", hue=\"index\")\n",
    "plt.show()\n",
    "\n",
    "sns.lineplot(data=output_exp, x=\"price\", y=\"survived_up_to\", hue=\"index\")\n",
    "plt.show()\n",
    "\n",
    "sns.lineplot(data=output_exp, x=\"price\", y=\"interest_revenues\", hue=\"index\")\n",
    "plt.show()"
   ]
  },
  {
   "cell_type": "code",
   "execution_count": null,
   "id": "de394436",
   "metadata": {},
   "outputs": [],
   "source": []
  },
  {
   "cell_type": "code",
   "execution_count": 509,
   "id": "2d8c39e9",
   "metadata": {
    "ExecuteTime": {
     "end_time": "2023-08-14T12:10:40.971718Z",
     "start_time": "2023-08-14T12:10:40.860617Z"
    }
   },
   "outputs": [
    {
     "data": {
      "text/plain": [
       "col_1                   -0.329119\n",
       "col_2                    0.888520\n",
       "col_3                   -1.998780\n",
       "col_4                   -0.782292\n",
       "col_5                   -1.413277\n",
       "col_6                   -1.633019\n",
       "col_7                   -1.252065\n",
       "col_8                   -0.623146\n",
       "col_9                   -0.414415\n",
       "col_10                   0.156681\n",
       "loan_amt             14983.064313\n",
       "installments            10.987060\n",
       "default_cutoff           0.501360\n",
       "price                    0.049945\n",
       "risk                     0.585449\n",
       "risk_baseline           -0.053798\n",
       "risk_sens               50.843773\n",
       "risk_latent              0.528204\n",
       "interest_revenues     4906.058535\n",
       "survived_up_to           6.268760\n",
       "default                  0.584720\n",
       "loss                  9609.988135\n",
       "margin               -4703.929600\n",
       "dtype: float64"
      ]
     },
     "execution_count": 509,
     "metadata": {},
     "output_type": "execute_result"
    }
   ],
   "source": [
    "price_space = np.arange(.01, .1, .01)\n",
    "\n",
    "features = world.features\n",
    "\n",
    "loans = world.sample_features(n=50000)\n",
    "output = world.outcome_fn(loans, np.random.choice(price_space, len(loans)))\n",
    "\n",
    "output.mean()"
   ]
  },
  {
   "cell_type": "code",
   "execution_count": 510,
   "id": "862f8df6",
   "metadata": {
    "ExecuteTime": {
     "end_time": "2023-08-14T12:10:42.234873Z",
     "start_time": "2023-08-14T12:10:41.596227Z"
    }
   },
   "outputs": [
    {
     "name": "stdout",
     "output_type": "stream",
     "text": [
      "0.23173409134861056\n",
      "0.5480717051061469\n"
     ]
    },
    {
     "data": {
      "text/plain": [
       "0.2977519072161928"
      ]
     },
     "execution_count": 510,
     "metadata": {},
     "output_type": "execute_result"
    }
   ],
   "source": [
    "from lightgbm import LGBMRegressor\n",
    "from sklearn.metrics import r2_score\n",
    "\n",
    "rev_model = LGBMRegressor()\n",
    "loss_model = LGBMRegressor()\n",
    "\n",
    "X = output[features+[\"price\"]]\n",
    "rev_model.fit(X, output[\"interest_revenues\"])\n",
    "loss_model.fit(X, output[\"loss\"])\n",
    "\n",
    "print(rev_model.score(X, output[\"interest_revenues\"]))\n",
    "print(loss_model.score(X, output[\"loss\"]))\n",
    "\n",
    "r2_score(output[\"margin\"], rev_model.predict(X) - loss_model.predict(X))"
   ]
  },
  {
   "cell_type": "code",
   "execution_count": 511,
   "id": "b5a45f89",
   "metadata": {
    "ExecuteTime": {
     "end_time": "2023-08-14T12:10:44.366842Z",
     "start_time": "2023-08-14T12:10:42.869794Z"
    }
   },
   "outputs": [],
   "source": [
    "np.random.seed(2)\n",
    "new_sample = world.sample_features(n=50000)\n",
    "\n",
    "price_alocation_sample = (new_sample.reset_index()\n",
    "                          .assign(key=1)\n",
    "                          .merge(pd.DataFrame(dict(price=price_space, key=1)))\n",
    "                          .assign(loss_pred = lambda d: -loss_model.predict(d[features+[\"price\"]]))\n",
    "                          .assign(rev_pred = lambda d: rev_model.predict(d[features+[\"price\"]]))\n",
    "                          .assign(prediction = lambda d: rev_model.predict(d[features+[\"price\"]]) - loss_model.predict(d[features+[\"price\"]]))\n",
    "                          .sort_values([\"index\", \"prediction\"], ascending=(True, False))\n",
    "                          .groupby([\"index\"])\n",
    "                          .first()\n",
    "                         )"
   ]
  },
  {
   "cell_type": "code",
   "execution_count": null,
   "id": "1185865b",
   "metadata": {
    "ExecuteTime": {
     "end_time": "2023-08-12T18:54:26.488599Z",
     "start_time": "2023-08-12T18:54:26.475025Z"
    }
   },
   "outputs": [],
   "source": []
  },
  {
   "cell_type": "code",
   "execution_count": 512,
   "id": "9e1a0836",
   "metadata": {
    "ExecuteTime": {
     "end_time": "2023-08-14T12:10:45.057034Z",
     "start_time": "2023-08-14T12:10:44.976865Z"
    }
   },
   "outputs": [
    {
     "data": {
      "text/plain": [
       "array([[<AxesSubplot:title={'center':'price'}>]], dtype=object)"
      ]
     },
     "execution_count": 512,
     "metadata": {},
     "output_type": "execute_result"
    },
    {
     "data": {
      "image/png": "[encoded data removed]",
      "text/plain": [
       "<Figure size 432x288 with 1 Axes>"
      ]
     },
     "metadata": {
      "needs_background": "light"
     },
     "output_type": "display_data"
    }
   ],
   "source": [
    "price_alocation_sample[[\"price\"]].hist()"
   ]
  },
  {
   "cell_type": "code",
   "execution_count": 513,
   "id": "437514af",
   "metadata": {
    "ExecuteTime": {
     "end_time": "2023-08-14T12:10:45.745646Z",
     "start_time": "2023-08-14T12:10:45.669463Z"
    }
   },
   "outputs": [
    {
     "data": {
      "text/plain": [
       "array([[<AxesSubplot:title={'center':'price'}>]], dtype=object)"
      ]
     },
     "execution_count": 513,
     "metadata": {},
     "output_type": "execute_result"
    },
    {
     "data": {
      "image/png": "[encoded data removed]",
      "text/plain": [
       "<Figure size 432x288 with 1 Axes>"
      ]
     },
     "metadata": {
      "needs_background": "light"
     },
     "output_type": "display_data"
    }
   ],
   "source": [
    "price_alocation_sample.query(\"prediction>0\")[[\"price\"]].hist()"
   ]
  },
  {
   "cell_type": "code",
   "execution_count": null,
   "id": "09b198b2",
   "metadata": {},
   "outputs": [],
   "source": []
  },
  {
   "cell_type": "code",
   "execution_count": null,
   "id": "a8c0c822",
   "metadata": {},
   "outputs": [],
   "source": []
  }
 ],
 "metadata": {
  "kernelspec": {
   "display_name": "Python [conda env:root] *",
   "language": "python",
   "name": "conda-root-py"
  },
  "language_info": {
   "codemirror_mode": {
    "name": "ipython",
    "version": 3
   },
   "file_extension": ".py",
   "mimetype": "text/x-python",
   "name": "python",
   "nbconvert_exporter": "python",
   "pygments_lexer": "ipython3",
   "version": "3.7.12"
  },
  "toc": {
   "base_numbering": 1,
   "nav_menu": {},
   "number_sections": true,
   "sideBar": true,
   "skip_h1_title": false,
   "title_cell": "Table of Contents",
   "title_sidebar": "Contents",
   "toc_cell": false,
   "toc_position": {},
   "toc_section_display": true,
   "toc_window_display": false
  },
  "varInspector": {
   "cols": {
    "lenName": 16,
    "lenType": 16,
    "lenVar": 40
   },
   "kernels_config": {
    "python": {
     "delete_cmd_postfix": "",
     "delete_cmd_prefix": "del ",
     "library": "var_list.py",
     "varRefreshCmd": "print(var_dic_list())"
    },
    "r": {
     "delete_cmd_postfix": ") ",
     "delete_cmd_prefix": "rm(",
     "library": "var_list.r",
     "varRefreshCmd": "cat(var_dic_list()) "
    }
   },
   "types_to_exclude": [
    "module",
    "function",
    "builtin_function_or_method",
    "instance",
    "_Feature"
   ],
   "window_display": false
  }
 },
 "nbformat": 4,
 "nbformat_minor": 5
}
